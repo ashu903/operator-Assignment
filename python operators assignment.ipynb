{
 "cells": [
  {
   "cell_type": "code",
   "execution_count": 11,
   "id": "6864a0b0-6a90-4b23-ab8a-4893d93b3414",
   "metadata": {},
   "outputs": [
    {
     "name": "stdin",
     "output_type": "stream",
     "text": [
      "Enter the first number:  10\n",
      "Enter the second number:  5\n"
     ]
    },
    {
     "name": "stdout",
     "output_type": "stream",
     "text": [
      "sum:  15\n",
      "Difference:  5\n",
      "product:  50\n",
      "quotient:  2.0\n"
     ]
    }
   ],
   "source": [
    "# 1. calculate the sum,difference,product and quotient of two numbers.\n",
    "\n",
    "a = int(input(\"Enter the first number: \"))\n",
    "b = int(input(\"Enter the second number: \"))\n",
    "\n",
    "print(\"sum: \",a+b)\n",
    "print(\"Difference: \",a-b)\n",
    "print(\"product: \",a*b)\n",
    "print(\"quotient: \",a/b)\n",
    "        "
   ]
  },
  {
   "cell_type": "code",
   "execution_count": 9,
   "id": "751344ae-9c7a-40fc-b53f-66740c84b202",
   "metadata": {},
   "outputs": [
    {
     "name": "stdout",
     "output_type": "stream",
     "text": [
      "20\n",
      "16\n",
      "32\n",
      "8.0\n",
      "4.0\n",
      "256.0\n",
      "0.0\n"
     ]
    }
   ],
   "source": [
    "# 2. perform various assignment operations on a variable.\n",
    "\n",
    "x = 12\n",
    "\n",
    "x += 8\n",
    "print(x)\n",
    "\n",
    "x -= 4\n",
    "print(x)\n",
    "\n",
    "x *= 2\n",
    "print(x)\n",
    "\n",
    "x /= 4\n",
    "print(x)\n",
    "\n",
    "x //= 2\n",
    "print(x)\n",
    "\n",
    "x **= 4\n",
    "print(x)\n",
    "\n",
    "x %= 16\n",
    "print(x)\n",
    "\n"
   ]
  },
  {
   "cell_type": "code",
   "execution_count": 16,
   "id": "0d56dba0-30dd-4319-8b06-0ddd6d6cc524",
   "metadata": {},
   "outputs": [
    {
     "name": "stdout",
     "output_type": "stream",
     "text": [
      "False\n",
      "True\n",
      "False\n",
      "True\n",
      "False\n",
      "True\n"
     ]
    }
   ],
   "source": [
    "# 3. compare two numbers and print the result\n",
    "\n",
    "a = 8\n",
    "\n",
    "b = 16\n",
    "\n",
    "print(a==b)\n",
    "print(a!=b)\n",
    "print(a>=b)\n",
    "print(a<=b)\n",
    "print(a>b)\n",
    "print(a<b)"
   ]
  },
  {
   "cell_type": "code",
   "execution_count": 19,
   "id": "9c2b24ea-4e77-4e35-af93-a0a781568253",
   "metadata": {},
   "outputs": [
    {
     "name": "stdout",
     "output_type": "stream",
     "text": [
      "x is not the largest number.\n",
      "x is at least largest than one number.\n",
      "x is not the largest number.\n"
     ]
    }
   ],
   "source": [
    "# 4. Check conditions using logical operators.\n",
    "\n",
    "# AND(and) logical operators\n",
    "\n",
    "x = 10\n",
    "y = 20\n",
    "z = 30\n",
    "\n",
    "if x>y and y>z :\n",
    "    print(\"x is the largest number.\")\n",
    "else:\n",
    "    print(\"x is not the largest number.\")\n",
    "    \n",
    "# OR(or) logical opertators\n",
    "\n",
    "x = 30\n",
    "y = 50\n",
    "z = 10\n",
    "\n",
    "if x>y or y>z :\n",
    "    print(\"x is at least largest than one number.\")\n",
    "else:\n",
    "    print(\"x is the smallest  number.\")\n",
    "    \n",
    "    \n",
    "# NOT(not) logical opertators\n",
    "\n",
    "x = 10\n",
    "y = 20\n",
    "z = 30\n",
    "\n",
    "if not(x>y or x>z):\n",
    "    print(\"x is not the largest number.\")\n",
    "else:\n",
    "    print(\"x is not the smallest  number.\")\n",
    "    \n",
    "    \n"
   ]
  },
  {
   "cell_type": "code",
   "execution_count": 28,
   "id": "1bee52a1-9661-4057-b546-19e7f1cc60d6",
   "metadata": {},
   "outputs": [
    {
     "name": "stdout",
     "output_type": "stream",
     "text": [
      "True\n",
      "False\n",
      "True\n",
      "True\n",
      "139915158667792\n",
      "139915158667792\n",
      "139915158667792\n",
      "True\n",
      "False\n",
      "139915074678592\n",
      "139915074680320\n"
     ]
    }
   ],
   "source": [
    "# 5. Check the identity of variables.\n",
    "\n",
    "num1 = 10\n",
    "num2 = 10\n",
    "print(num1 is num2)\n",
    "\n",
    "num1 = 10\n",
    "num2 = 20\n",
    "print(num1 is num2)\n",
    "\n",
    "num1 = 10\n",
    "num2 = 10\n",
    "print(num1 is num2)\n",
    "\n",
    "num3 = num1\n",
    "print(num3 is num1)\n",
    "\n",
    "print(id(num1))\n",
    "print(id(num2))\n",
    "print(id(num3))\n",
    "\n",
    "# in string case\n",
    "str1 = \"hello\"\n",
    "str2 = \"hello\"\n",
    "print(str1 is str2)\n",
    "\n",
    "# in list case(in this case false output)\n",
    "l1 = [10,20,30]\n",
    "l2 = [10,20,30]\n",
    "print(l1 is l2)\n",
    "\n",
    "print(id(l1))\n",
    "print(id(l2))\n"
   ]
  },
  {
   "cell_type": "code",
   "execution_count": 43,
   "id": "69d2950b-ce67-4ba1-bd42-065c07374796",
   "metadata": {},
   "outputs": [
    {
     "name": "stdout",
     "output_type": "stream",
     "text": [
      "0\n",
      "14\n",
      "-7\n",
      "-9\n",
      "14\n",
      "0\n",
      "1536\n",
      "0\n"
     ]
    }
   ],
   "source": [
    "# 6. Perform bitwise operations on any two integers.\n",
    "\n",
    "int1 = 6\n",
    "\n",
    "int2 = 8\n",
    "\n",
    "print(int1 & int2)\n",
    "\n",
    "print(int1 | int2)\n",
    "\n",
    "print(~ int1)\n",
    "print(~ int2)\n",
    "\n",
    "print(int1 ^ int2)\n",
    "\n",
    "print(int1 & int2)\n",
    "\n",
    "print(int1 << int2)\n",
    "\n",
    "print(int1 >> int2)\n"
   ]
  },
  {
   "cell_type": "code",
   "execution_count": 45,
   "id": "48df4a28-150c-45cc-af5b-5ece113bf0ce",
   "metadata": {},
   "outputs": [
    {
     "name": "stdout",
     "output_type": "stream",
     "text": [
      "Original number: 7\n",
      "Number with changed sign: -7\n"
     ]
    }
   ],
   "source": [
    "# 7. Use unary operators to change the sign of a number.\n",
    "\n",
    "number = 7\n",
    "change_sign = -number\n",
    "\n",
    "print(\"Original number:\", number)\n",
    "print(\"Number with changed sign:\", change_sign)"
   ]
  },
  {
   "cell_type": "code",
   "execution_count": 46,
   "id": "347a042d-ef7c-475b-945e-a0e1fc39cc3b",
   "metadata": {},
   "outputs": [
    {
     "name": "stdout",
     "output_type": "stream",
     "text": [
      "bad\n"
     ]
    }
   ],
   "source": [
    "# 8.  Use the ternary operator to assign values based on conditions.\n",
    "\n",
    "a = 15\n",
    "\n",
    "b = 6\n",
    "\n",
    "print('a is larger' if a>b else 'b is larger')"
   ]
  },
  {
   "cell_type": "code",
   "execution_count": null,
   "id": "e7fd49c0-1d6c-4410-85fd-b842d5fcf268",
   "metadata": {},
   "outputs": [],
   "source": []
  }
 ],
 "metadata": {
  "kernelspec": {
   "display_name": "Python 3 (ipykernel)",
   "language": "python",
   "name": "python3"
  },
  "language_info": {
   "codemirror_mode": {
    "name": "ipython",
    "version": 3
   },
   "file_extension": ".py",
   "mimetype": "text/x-python",
   "name": "python",
   "nbconvert_exporter": "python",
   "pygments_lexer": "ipython3",
   "version": "3.10.8"
  }
 },
 "nbformat": 4,
 "nbformat_minor": 5
}
